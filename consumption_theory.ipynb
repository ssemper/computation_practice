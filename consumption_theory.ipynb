{
 "cells": [
  {
   "cell_type": "code",
   "execution_count": null,
   "id": "673df8ec",
   "metadata": {},
   "outputs": [],
   "source": [
    "import numpy as np\n",
    "import matplotlib.pyplot as plt\n",
    "from mpl_toolkits.mplot3d import axes3d"
   ]
  },
  {
   "cell_type": "code",
   "execution_count": null,
   "id": "90ca823a",
   "metadata": {},
   "outputs": [],
   "source": [
    "avo = 6.022e23\n",
    "m2µm  = 1e6\n",
    "def surf_a(d, l):\n",
    "    return np.pi *  d  * l\n",
    "def vol(d , l ):\n",
    "    return np.pi*l*(d/2)**2\n",
    "def cross_a(d):\n",
    "    return np.pi *  (d/2)**2\n",
    "\n",
    "base_cyt = 10432667.412756/((3.1e-16 )*avo)   #moles ATP /sec per m^3 \n",
    "base_mem = 909175.81/((5.68e-10 )*avo)      #moles ATP /sec per m^2\n",
    "\n",
    "def base_cons(volume, sarea , bc=base_cyt, bm = base_mem ):\n",
    "    return bc*volume + bm * sarea"
   ]
  },
  {
   "cell_type": "code",
   "execution_count": null,
   "id": "ec9837ba",
   "metadata": {},
   "outputs": [],
   "source": [
    "base_cyt,base_mem  # moles / m^3  per sec"
   ]
  },
  {
   "cell_type": "code",
   "execution_count": null,
   "id": "40f6230a",
   "metadata": {},
   "outputs": [],
   "source": [
    "d_range = np.arange(0.1,3,0.4)  # diameters in µm\n",
    "l_range  = np.arange(1,10,0.1)  # length from mito midpoint to midpoint b/w  mito"
   ]
  },
  {
   "cell_type": "code",
   "execution_count": null,
   "id": "5b39acb7",
   "metadata": {},
   "outputs": [],
   "source": [
    "#base_cons(vol(d_range/m2µm,l_range/m2µm),surf_a(d_range/m2µm,l_range/m2µm))/1\n",
    "\n",
    "#base_cons(vol(d_range/m2µm,l_range/m2µm),surf_a(d_range/m2µm,l_range/m2µm))/vol(d_range/m2µm,l_range/m2µm)\n"
   ]
  },
  {
   "cell_type": "markdown",
   "id": "9935c513",
   "metadata": {},
   "source": [
    "## Good first - add contours of single lines for fixed diameters"
   ]
  },
  {
   "cell_type": "code",
   "execution_count": null,
   "id": "66e1fe74",
   "metadata": {},
   "outputs": [],
   "source": [
    "ax = plt.figure().add_subplot(1, 1, 1, projection='3d')\n",
    "X = np.copy(d_range)\n",
    "Y = np.copy(l_range)\n",
    "X, Y = np.meshgrid(d_range, l_range)\n",
    "Z = base_cons(vol(X/m2µm,Y/m2µm),surf_a(X/m2µm,Y/m2µm))\n",
    "surf = ax.plot_surface(X, Y, Z, linewidth=0, antialiased=True)\n",
    "ax.set_xlabel('Diameter µm')\n",
    "ax.set_ylabel('Intervari. length µm')\n",
    "ax.set_zlabel('Rest Consumption (ATP moles x 10^-17 /s)')\n",
    "ax.dist = 13\n",
    "plt.show()"
   ]
  },
  {
   "cell_type": "markdown",
   "id": "26f3e9ff",
   "metadata": {},
   "source": [
    "## Consumption estimates for activity:  https://www.jneurosci.org/content/42/6/954/tab-figures-data\n",
    "\n",
    "Fig 3 (F) == Power ATP molecules per sec Ca2+\n",
    "Fig 4 (F) == Power ATP molecules per sec Na+\n",
    "\n",
    "comitted_ca and committed_na are ATP molecules per Action Potential\n",
    "Power demand taken from supple tables, ATP molecules per sec\n",
    "\n",
    "M6Ib\n",
    "6.82e7    ATP molecules/s for Ca2+\n",
    "6.49e7    for Na\n",
    "5.68e-10       SA:m^2\n",
    "\n",
    "\n",
    "M6Is\n",
    "0.33e7\n",
    "0.3e7\n",
    "2.34e-10\n",
    "\n",
    "M13Ib\n",
    "9.97e7\n",
    "12.1e7\n",
    "5.43e-10\n",
    "\n",
    "M13Is\n",
    "0.31e7\n",
    "0.32e7\n",
    "2.51e-10\n",
    "\n",
    "M12Ib\n",
    "8.46e7\n",
    "7.93e7\n",
    "5.95e-10\n",
    "\n",
    "M12Is\n",
    "0.49e7\n",
    "0.37e7\n",
    "2.95e-10"
   ]
  },
  {
   "cell_type": "code",
   "execution_count": null,
   "id": "e935e1f5",
   "metadata": {},
   "outputs": [],
   "source": [
    "terms = {\n",
    "    \"M61b\" : {'power_sa': (6.28e7+6.49e7)/avo ,'power_vol': 2.27e7 /avo ,'area':5.68e-10 , 'volume':3.1e-16 },\\\n",
    "    'M61s':  {'power_sa': (0.33e7+0.3e7)/avo  ,'power_vol': 0.29e7 /avo  ,'area':2.34e-10 , 'volume':9.01e-17 }, \\\n",
    "    'M131b': {'power_sa': (9.97e7+12.1e7)/avo ,'power_vol': 2.4e7  /avo ,'area':5.43e-10 , 'volume':3.92e-16 } \n",
    "            } "
   ]
  },
  {
   "cell_type": "code",
   "execution_count": null,
   "id": "d0fce509",
   "metadata": {},
   "outputs": [],
   "source": [
    "terms"
   ]
  },
  {
   "cell_type": "code",
   "execution_count": null,
   "id": "aff5ffbf",
   "metadata": {},
   "outputs": [],
   "source": [
    "ax = plt.figure().add_subplot(1, 1, 1, projection='3d')\n",
    "X = np.copy(d_range)\n",
    "Y = np.copy(l_range)\n",
    "X, Y = np.meshgrid(d_range, l_range)\n",
    "ZA = terms['M61b']['power_sa']*surf_a(X/m2µm,Y/m2µm)/terms['M61b']['area']/1\n",
    "surf = ax.plot_surface(X, Y, ZA, linewidth=0, antialiased=True)\n",
    "ZA2 = terms['M61s']['power_sa']*surf_a(X/m2µm,Y/m2µm)/terms['M61s']['area']\n",
    "surf = ax.plot_surface(X, Y, ZA2, linewidth=0, antialiased=True)\n",
    "\n",
    "ax.set_xlabel('Diameter µm')\n",
    "ax.set_ylabel('Compartment length µm')\n",
    "ax.set_zlabel('Surf_area Consumption (ATP moles x 10^-17 /s)')\n",
    "ax.dist = 13\n",
    "plt.show()\n",
    "ax = plt.figure().add_subplot(1, 1, 1, projection='3d')\n",
    "X = np.copy(d_range)\n",
    "Y = np.copy(l_range)\n",
    "X, Y = np.meshgrid(d_range, l_range)\n",
    "ZV = terms['M61b']['power_vol']*vol(X/m2µm,Y/m2µm)/terms['M61b']['volume']/1\n",
    "surf = ax.plot_surface(X, Y, ZV, linewidth=0, antialiased=True)\n",
    "Z2V = terms['M61s']['power_vol']*vol(X/m2µm,Y/m2µm)/terms['M61s']['volume']\n",
    "surf = ax.plot_surface(X, Y, Z2V, linewidth=0, antialiased=True)\n",
    "\n",
    "ax.set_xlabel('Diameter µm')\n",
    "ax.set_ylabel('Compartment length µm')\n",
    "ax.set_zlabel('Volume Consumption (ATP moles x 10^-18 /s)')\n",
    "ax.dist = 13\n",
    "plt.show()"
   ]
  },
  {
   "cell_type": "code",
   "execution_count": null,
   "id": "21f5f1f1",
   "metadata": {},
   "outputs": [],
   "source": [
    "ax = plt.figure().add_subplot(1, 1, 1, projection='3d')\n",
    "X = np.copy(d_range)\n",
    "Y = np.copy(l_range)\n",
    "X, Y = np.meshgrid(d_range, l_range)\n",
    "ATP_drop = (ZA+ZV)*(Y/m2µm)/(2*np.pi*(300/(m2µm)**2 )*(X/m2µm)**2/4)\n",
    "surf = ax.plot_surface(X, Y,ATP_drop, linewidth=0, antialiased=True)\n",
    "\n",
    "\n",
    "ax.set_xlabel('Diameter µm')\n",
    "ax.set_ylabel('Compartment length µm')\n",
    "ax.set_zlabel('Difference in [ATP] from mito to neighbor mM/s')\n",
    "ax.dist = 13\n",
    "plt.show()"
   ]
  },
  {
   "cell_type": "code",
   "execution_count": null,
   "id": "3553754a",
   "metadata": {},
   "outputs": [],
   "source": [
    "ATP_drop[-1]"
   ]
  },
  {
   "cell_type": "code",
   "execution_count": null,
   "id": "93f762f2",
   "metadata": {},
   "outputs": [],
   "source": [
    "c = ( terms['M131b']['power_sa']) * (surf_a(1/m2µm,10/m2µm)) /  terms['M131b']['area']"
   ]
  },
  {
   "cell_type": "code",
   "execution_count": null,
   "id": "3d2ce902",
   "metadata": {},
   "outputs": [],
   "source": [
    "d = 1/m2µm\n",
    "l = 5/m2µm\n",
    "cross_a(d)\n",
    "surf_a(d,l),terms['M61b']['area']\n"
   ]
  },
  {
   "cell_type": "code",
   "execution_count": null,
   "id": "2169d793",
   "metadata": {},
   "outputs": [],
   "source": []
  },
  {
   "cell_type": "code",
   "execution_count": null,
   "id": "c2a48606",
   "metadata": {
    "scrolled": true
   },
   "outputs": [],
   "source": [
    "c * ( 10/(m2µm ) ) / ( 2 * ( np.pi*( (1/m2µm)/2  )**2  ) * 300*1e-12 ), c * ( 10/(m2µm ) ) / ( 2 * ( np.pi*( (1/m2µm)/2  )**2  ) * 150*1e-12 )"
   ]
  },
  {
   "cell_type": "code",
   "execution_count": null,
   "id": "a565605e",
   "metadata": {},
   "outputs": [],
   "source": [
    "(2.16-0.9)/2.16"
   ]
  },
  {
   "cell_type": "markdown",
   "id": "31a962cf",
   "metadata": {},
   "source": [
    "## What treatments go together?\n",
    "\n",
    "### Ca2+ and Na+ go with surface area\n",
    "### base rates are already subdivided\n",
    "### \"signaling\" a la KJ 2022 is volumic (though shepard would probably object for en passant varicosities. Try this version later: "
   ]
  },
  {
   "cell_type": "code",
   "execution_count": null,
   "id": "77401c44",
   "metadata": {},
   "outputs": [],
   "source": []
  }
 ],
 "metadata": {
  "kernelspec": {
   "display_name": "Python 3 (ipykernel)",
   "language": "python",
   "name": "python3"
  },
  "language_info": {
   "codemirror_mode": {
    "name": "ipython",
    "version": 3
   },
   "file_extension": ".py",
   "mimetype": "text/x-python",
   "name": "python",
   "nbconvert_exporter": "python",
   "pygments_lexer": "ipython3",
   "version": "3.10.9"
  }
 },
 "nbformat": 4,
 "nbformat_minor": 5
}
