{
 "cells": [
  {
   "cell_type": "code",
   "execution_count": null,
   "id": "673df8ec",
   "metadata": {},
   "outputs": [],
   "source": [
    "import numpy as np\n",
    "import matplotlib.pyplot as plt\n",
    "from mpl_toolkits.mplot3d import axes3d\n",
    "%matplotlib inline"
   ]
  },
  {
   "cell_type": "markdown",
   "id": "89d9fd5a",
   "metadata": {},
   "source": [
    "## Geometry, consumption  parameters"
   ]
  },
  {
   "cell_type": "code",
   "execution_count": null,
   "id": "90ca823a",
   "metadata": {},
   "outputs": [],
   "source": [
    "avo = 6.022e23   #avo's number\n",
    "m2µm  = 1e6      #convert meters from/to micrometer\n",
    "\n",
    "## Geometry (cylindrical):  Surface area, volume, cross-sectional area\n",
    "\n",
    "def surf_a(d, l):               # Surface area\n",
    "    return np.pi *  d  * l\n",
    "def vol(d , l ):                # Volume\n",
    "    return np.pi*l*(d/2)**2\n",
    "def cross_a(d):\n",
    "    return np.pi *  (d/2)**2\n",
    "\n",
    "## Base consumption density, per volume and per surface-area\n",
    "\n",
    "base_cyt = 10432667.412756/((3.1e-16 )*avo)   #moles ATP /sec per m^3 \n",
    "base_mem = 909175.81/((5.68e-10 )*avo)      #moles ATP /sec per m^2\n",
    "\n",
    "## Total base consumption \n",
    "def base_cons(volume, sarea , bc=base_cyt, bm = base_mem ):\n",
    "    return bc*volume + bm * sarea\n",
    "\n",
    "## Firing Rate , EFR\n",
    "f_rate = np.arange(1,100,10)\n",
    "\n",
    "\n",
    "\n",
    "## ATP Diffusion coefficient (highest end)\n",
    "DATP = 300  ## µm^2/s\n",
    "\n",
    "\n",
    "## Dimension ranges for axons(uniform, i.e. a particular d and l define the diameter and length along the whole axon)\n",
    "d_range = np.arange(0.1,1,0.1)  # diameters in µm\n",
    "l_range  = np.arange(1,5,0.1)  # length from mito midpoint to midpoint b/w  mito\n",
    "\n",
    "X = np.copy(d_range)\n",
    "Y = np.copy(l_range)\n",
    "X, Y = np.meshgrid(d_range, l_range)\n",
    "\n",
    "\n"
   ]
  },
  {
   "cell_type": "code",
   "execution_count": null,
   "id": "505b3765",
   "metadata": {},
   "outputs": [],
   "source": [
    "#  What are our parameters? \n",
    "#  - Length and Width\n",
    "#  - Firing Rate    ( 1 to 100)\n",
    "#  - Steady State ADP in bouton 1  for steady state ADP < rest ADP\n",
    "\n",
    "#  What are some pitfalls/caps?\n",
    "#  - 2x ATP consumption ≤ max ATP production (literature  max prod cap)\n",
    "# production caps (not pro-rated, straight from previous )"
   ]
  },
  {
   "cell_type": "code",
   "execution_count": null,
   "id": "2312739f",
   "metadata": {},
   "outputs": [],
   "source": [
    "## Production caps\n",
    "\n",
    "#V_mito = lambda d: 4*np.pi/3*(d/2)**3"
   ]
  },
  {
   "cell_type": "code",
   "execution_count": null,
   "id": "7fc89f36",
   "metadata": {},
   "outputs": [],
   "source": [
    "#mito_vmM = np.array([V_mito(0.13/m2µm),V_mito(0.3/m2µm)])\n",
    "\n",
    "#60.3*.195*1.06*mito_vmM/(vol(1/m2µm,np.array([float(l_range[0])/m2µm ,float(l_range[-1])/m2µm  ]  )  ) )"
   ]
  },
  {
   "cell_type": "markdown",
   "id": "3092708c",
   "metadata": {},
   "source": [
    "### ATP Drop\n",
    "$$\n",
    "\\text{Total Areal Consumption for a compartment} = C^{SA} \\times \\text{Surface Area} \n",
    "$$"
   ]
  },
  {
   "cell_type": "code",
   "execution_count": null,
   "id": "68ad8523",
   "metadata": {},
   "outputs": [],
   "source": [
    "Z = base_cons(vol( X/m2µm , Y/m2µm )  ,  surf_a( X/m2µm , Y/m2µm ))\n",
    "print (min(Z[0]), max(Z[0] ) ,min(Z[-1]), max(Z[-1]))\n",
    "\n",
    "print(base_cons(vol( d_range[-1]/m2µm , l_range[-1]/m2µm )  ,  surf_a( d_range[-1]/m2µm , l_range[-1]/m2µm )) )"
   ]
  },
  {
   "cell_type": "code",
   "execution_count": null,
   "id": "f6173dcb",
   "metadata": {},
   "outputs": [],
   "source": [
    "np.shape(Y)"
   ]
  },
  {
   "cell_type": "code",
   "execution_count": null,
   "id": "79f3c4a8",
   "metadata": {},
   "outputs": [],
   "source": [
    "def plot_surface(x,y,z,x_ti,y_ti,z_ti,ax_d = 13):\n",
    "    ax = plt.figure().add_subplot(1, 1, 1, projection='3d')\n",
    "    surf = ax.plot_surface(x,y,z, linewidth=0, antialiased=True)\n",
    "    ax.set_xlabel(x_ti)\n",
    "    ax.set_ylabel(y_ti)\n",
    "    ax.set_zlabel(z_ti)\n",
    "    ax.dist = ax_d\n",
    "    plt.show()\n",
    "    return None"
   ]
  },
  {
   "cell_type": "markdown",
   "id": "9935c513",
   "metadata": {},
   "source": [
    "## Good first - add contours of single lines for fixed diameters"
   ]
  },
  {
   "cell_type": "code",
   "execution_count": null,
   "id": "f52b2675",
   "metadata": {},
   "outputs": [],
   "source": [
    "x_T, y_T, z_T  = 'Diameter µm' , 'Intervari. length µm' , 'Rest Consumption (ATP moles x 10^-19 /s)'\n",
    "plot_surface(X,Y,Z,x_T, y_T, z_T)\n",
    "plt.show()"
   ]
  },
  {
   "cell_type": "code",
   "execution_count": null,
   "id": "66e1fe74",
   "metadata": {},
   "outputs": [],
   "source": [
    "ax = plt.figure().add_subplot(1, 1, 1, projection='3d')\n",
    "Z = base_cons(vol( X/m2µm , Y/m2µm )  ,  surf_a( X/m2µm , Y/m2µm ))\n",
    "surf = ax.plot_surface(X, Y, Z, linewidth=0, antialiased=True)\n",
    "ax.set_xlabel('Diameter µm')\n",
    "ax.set_ylabel('Intervari. length µm')\n",
    "ax.set_zlabel('Rest Consumption (ATP moles x 10^-17 /s)')\n",
    "ax.dist = 13\n",
    "plt.show()"
   ]
  },
  {
   "cell_type": "markdown",
   "id": "26f3e9ff",
   "metadata": {},
   "source": [
    "## Consumption estimates for activity:  https://www.jneurosci.org/content/42/6/954/tab-figures-data\n",
    "\n",
    "Fig 3 (F) == Power ATP molecules per sec Ca2+\n",
    "Fig 4 (F) == Power ATP molecules per sec Na+\n",
    "\n",
    "comitted_ca and committed_na are ATP molecules per Action Potential\n",
    "Power demand taken from supple tables, ATP molecules per sec\n",
    "\n",
    "\n",
    "$$\n",
    "\\begin{align}\n",
    "MN    &&  \\text{ATP molecules/s for Ca2+} &&  \\text{for Na+} && \\text{Surface Area } µm^2 \\\\\n",
    "M6Ib  &&  6.82E7  && 6.49E7 && 5.68E-10 \\\\\n",
    "M6Is  &&  0.33E7 && 0.3E7 && 2.34E-10 \\\\\n",
    "M13Ib  &&  9.97E7 && 12.1E7 && 5.43E-10 \\\\\n",
    "M13Is  &&  0.31E7 && 0.32E7 && 2.51E-10 \\\\\n",
    "M12Ib  &&  8.46E7 && 7.93E7 && 5.95E-10 \\\\\n",
    "M12Is  &&  0.49E7 && 0.37E7 && 2.95E-10 \\\\\n",
    "\\end{align}\n",
    "$$\n",
    "\n"
   ]
  },
  {
   "cell_type": "code",
   "execution_count": null,
   "id": "e935e1f5",
   "metadata": {},
   "outputs": [],
   "source": [
    "##  'power_XX' refers to the ATP consumption density.  'SA' is molecules of ATP consumed per second.  \n",
    "## 'vol' is due to vesicle processes  \n",
    "\n",
    "terms = {\n",
    "    \"M61b\" : {'power_sa': (6.82e7+6.49e7)/avo ,'power_vol': 2.27e7 /avo ,'area':5.68e-10 , 'volume':3.1e-16 },\\\n",
    "    'M61s':  {'power_sa': (0.33e7+0.3e7)/avo  ,'power_vol': 0.29e7 /avo  ,'area':2.34e-10 , 'volume':9.01e-17 }, \\\n",
    "    'M131b': {'power_sa': (9.97e7+12.1e7)/avo ,'power_vol': 2.4e7  /avo ,'area':5.43e-10 , 'volume':3.92e-16 } \n",
    "            } "
   ]
  },
  {
   "cell_type": "code",
   "execution_count": null,
   "id": "b9e13052",
   "metadata": {},
   "outputs": [],
   "source": [
    "cSA=np.mean([terms['M61b']['power_sa']/terms['M61b']['area']/18,\\\n",
    " terms['M61s']['power_sa']/terms['M61s']['area']/2,\\\n",
    " terms['M131b']['power_sa']/terms['M131b']['area']/34])/2\n",
    "\n",
    "print(cSA)\n",
    "# #np.mean\n",
    "# ([terms['M61b']['power_vol']/terms['M61b']['volume']/1,\\\n",
    "#  terms['M61s']['power_vol']/terms['M61s']['volume']/1,\\\n",
    "#  terms['M131b']['power_vol']/terms['M131b']['volume']/1])"
   ]
  },
  {
   "cell_type": "code",
   "execution_count": null,
   "id": "ce913020",
   "metadata": {},
   "outputs": [],
   "source": [
    "fig = plt.figure(figsize=plt.figaspect(0.45))\n",
    "ax1 = fig.add_subplot(1,2,1, projection ='3d')\n",
    "\n",
    "ZA = terms['M61b']['power_sa']*surf_a(X/m2µm,Y/m2µm)/terms['M61b']['area']/1\n",
    "surf = ax1.plot_surface(X, Y, ZA, linewidth=0, antialiased=True)\n",
    "ZA2 = terms['M61s']['power_sa']*surf_a(X/m2µm,Y/m2µm)/terms['M61s']['area']\n",
    "surf = ax1.plot_surface(X, Y, ZA2, linewidth=0, antialiased=True)\n",
    "ax1.set_xlabel('Diameter µm')\n",
    "ax1.set_ylabel('Compartment length µm')\n",
    "ax1.set_zlabel('Surf_area Consumption (ATP moles x 10^-17 /s)')\n",
    "\n",
    "ax2= fig.add_subplot(1,2,2,projection='3d')\n",
    "ZV = terms['M61b']['power_vol']*vol(X/m2µm,Y/m2µm)/terms['M61b']['volume']/1\n",
    "surf = ax2.plot_surface(X, Y, ZV, linewidth=0, antialiased=True)\n",
    "Z2V = terms['M61s']['power_vol']*vol(X/m2µm,Y/m2µm)/terms['M61s']['volume']\n",
    "surf = ax2.plot_surface(X, Y, Z2V, linewidth=0, antialiased=True)\n",
    "ax2.set_xlabel('Diameter µm')\n",
    "ax2.set_ylabel('Compartment length µm')\n",
    "ax2.set_zlabel('Volume Consumption (ATP moles x 10^-18 /s)')\n",
    "ax2.dist = 13\n",
    "plt.show()"
   ]
  },
  {
   "cell_type": "code",
   "execution_count": null,
   "id": "aff5ffbf",
   "metadata": {},
   "outputs": [],
   "source": [
    "## Note that consumption C is for ONE compartment, so once you have your consumptions over the whole ofthe axon, cut it appropriately"
   ]
  },
  {
   "cell_type": "code",
   "execution_count": null,
   "id": "0e5f9f8d",
   "metadata": {},
   "outputs": [],
   "source": [
    "#  Quantifying largest consumptions in terms  of mM/s, presuming \n",
    "#the  largest consumptions come from the thinnest and longest axons\n",
    "\n",
    "print('Largest (areal consumption, volumic consumption: ', '\\n',(max(ZA[-1])/vol( min(d_range)/m2µm , max(l_range)/m2µm   ), \\\n",
    "max(ZV[-1])/vol(     min(d_range)/m2µm  ,  max(l_range)/m2µm   ) ),  str('mM/s'))"
   ]
  },
  {
   "cell_type": "markdown",
   "id": "a285eb6a",
   "metadata": {},
   "source": [
    "### ATP Drops for 100 Hz firing M6Ib, compartment 2 has calcium active through the whole axon (over-rep'd consumption)"
   ]
  },
  {
   "cell_type": "code",
   "execution_count": null,
   "id": "21f5f1f1",
   "metadata": {},
   "outputs": [],
   "source": [
    "\n",
    "## Applying a EFR of 100 on the M6Ib-type ATP cost\n",
    "ATP_drop = (ZA+ZV)*(Y/2/m2µm)/(2*np.pi*(DATP/(m2µm)**2 )*(X/m2µm)**2/4)\n",
    "\n",
    "#plot_surface(X,Y,)\n",
    "\n",
    "\n",
    "#Just firing\n",
    "ax1 = plt.figure().add_subplot(1, 1, 1, projection='3d')\n",
    "ATP_drop = (ZA+ZV)*(Y/2/m2µm)/(2*np.pi*(DATP/(m2µm)**2 )*(X/m2µm)**2/4)\n",
    "ATP_drop_base = (base_cons(vol(X/m2µm,Y/m2µm), surf_a(X/m2µm,Y/m2µm)))*(Y/m2µm)/(2*np.pi*(DATP/(m2µm)**2 )*(X/m2µm)**2/4)\n",
    "surf1 = ax1.plot_surface(X, Y,ATP_drop*100/18, linewidth=0, antialiased=True)\n",
    "ax1.set_xlabel('Diameter µm')\n",
    "ax1.set_ylabel('Compartment length µm')\n",
    "ax1.set_zlabel('Difference in [ATP] from mito to neighbor mM/s')\n",
    "ax1.dist = 13\n",
    "plt.show()\n",
    "\n",
    "#Firing consumption + Base consumption\n",
    "ax2 = plt.figure().add_subplot(1, 1, 1, projection='3d')\n",
    "surf2 = ax2.plot_surface(X, Y,ATP_drop*100/18+ATP_drop_base, linewidth=0, antialiased=True)\n",
    "ax2.set_xlabel('Diameter µm')\n",
    "ax2.set_ylabel('Compartment length µm')\n",
    "ax2.set_zlabel('Difference in [ATP] from mito to neighbor mM/s')\n",
    "ax2.dist = 13\n",
    "plt.show()\n",
    "\n",
    "#Base consumption\n",
    "ax3 = plt.figure().add_subplot(1, 1, 1, projection='3d')\n",
    "surf3 = ax3.plot_surface(X, Y,ATP_drop_base, linewidth=0, antialiased=True)\n",
    "ax3.set_xlabel('Diameter µm')\n",
    "ax3.set_ylabel('Compartment length µm')\n",
    "ax3.set_zlabel('Difference in [ATP] from mito to neighbor mM/s')\n",
    "ax3.dist = 13\n",
    "plt.show()"
   ]
  },
  {
   "cell_type": "code",
   "execution_count": null,
   "id": "3553754a",
   "metadata": {},
   "outputs": [],
   "source": [
    "(100/18)*ATP_drop[-1] , ATP_drop_base[-1]"
   ]
  },
  {
   "cell_type": "markdown",
   "id": "c9645ceb",
   "metadata": {},
   "source": [
    "### Apply to \" squid \" system with 2.18 (AdT), PhT 3.3+7.5, Kph  = 39.6, ADP_1???"
   ]
  },
  {
   "cell_type": "code",
   "execution_count": null,
   "id": "008ec486",
   "metadata": {},
   "outputs": [],
   "source": [
    "def beta(ADP_1,PhT=7.5+3.3,AdT=2.18,KPh=39.6):\n",
    "    return KPh*AdT*PhT/((AdT + (KPh - 1)*ADP_1)**2)"
   ]
  },
  {
   "cell_type": "code",
   "execution_count": null,
   "id": "d449adae",
   "metadata": {},
   "outputs": [],
   "source": [
    "beta(.1)"
   ]
  },
  {
   "cell_type": "code",
   "execution_count": null,
   "id": "e5ecda93",
   "metadata": {},
   "outputs": [],
   "source": [
    "ax = plt.figure().add_subplot(1, 1, 1, projection='3d')\n",
    "\n",
    "Ph_ATP_drop = (ZA+ZV)*(Y/m2µm)/(2*np.pi*((DATP+beta(0.02)*450)/(m2µm)**2 )*(X/m2µm)**2/4)\n",
    "ATP_drop = (ZA+ZV)*(Y/m2µm)/(2*np.pi*((DATP)/(m2µm)**2 )*(X/m2µm)**2/4)\n",
    "\n",
    "surf1 = ax.plot_surface(X, Y,Ph_ATP_drop*100/18, linewidth=0, antialiased=True)\n",
    "surf2 = ax.plot_surface(X, Y,ATP_drop*100/18, linewidth=0, antialiased=True, alpha =0.4)\n",
    "\n",
    "ax.set_xlabel('Diameter µm')\n",
    "ax.set_ylabel('Compartment length µm')\n",
    "ax.set_zlabel('Difference in [ATP] from mito to neighbor mM/s')\n",
    "ax.dist = 13\n",
    "plt.show()"
   ]
  },
  {
   "cell_type": "code",
   "execution_count": null,
   "id": "a63bbbd8",
   "metadata": {},
   "outputs": [],
   "source": [
    "## Trying different ADP_1 values\n",
    "\n",
    "ax = plt.figure().add_subplot(1, 1, 1, projection='3d')\n",
    "\n",
    "ADP02_ATP_drop = (ZA+ZV)*(Y/m2µm)/(2*np.pi*((DATP+beta(0.02)*450)/(m2µm)**2 )*(X/m2µm)**2/4)\n",
    "ADP08_ATP_drop = (ZA+ZV)*(Y/m2µm)/(2*np.pi*((DATP+beta(0.08)*450)/(m2µm)**2 )*(X/m2µm)**2/4)\n",
    "\n",
    "surf1 = ax.plot_surface(X, Y,ADP02_ATP_drop*100/18, linewidth=0, antialiased=True)\n",
    "surf2 = ax.plot_surface(X, Y,ADP08_ATP_drop*100/18, linewidth=0, antialiased=True, alpha =0.4)\n",
    "\n",
    "ax.set_xlabel('Diameter µm')\n",
    "ax.set_ylabel('Compartment length µm')\n",
    "ax.set_zlabel('Difference in [ATP] from mito to neighbor mM/s')\n",
    "ax.dist = 13\n",
    "plt.show()"
   ]
  },
  {
   "cell_type": "markdown",
   "id": "31a962cf",
   "metadata": {},
   "source": [
    "## What treatments go together?\n",
    "\n",
    "### Ca2+ and Na+ go with surface area\n",
    "### base rates are already subdivided\n",
    "### \"signaling\" a la KJ 2022 is volumic (though shepard would probably object for en passant varicosities. Try this version later.\n",
    "### Scale by EFR, so average consumption just gets multiplied by the EFR\n",
    "### ATP production must match the consumption\n",
    "\n",
    "An analytical solution for ATPdrop without phos is as follows:\n",
    "$$ \\Delta [ATP] = \\frac{L^2}{D_{ATP} d} \\left( C^{SA}_{Na+} * \\lambda + C^{SA}_{Ca2+} *\\frac{L_{AZ}}{L}  \\right)*\\text{firing rate} $$\n",
    "\n",
    "where $L,d,C^V,C^{SA} $ period compartments 1+2 lengths, axon diameter, surface areal ATP consumption density for Na+ or Ca2+, and $L_{AZ} $ is the length of an active zone."
   ]
  },
  {
   "cell_type": "code",
   "execution_count": null,
   "id": "77401c44",
   "metadata": {},
   "outputs": [],
   "source": [
    "2.1e-8 * (25/60)*1e6 * 100"
   ]
  },
  {
   "cell_type": "code",
   "execution_count": null,
   "id": "72c8ca07",
   "metadata": {},
   "outputs": [],
   "source": [
    "((10e-6)**2)/(0.2e-6 *300e-12) * 2.1e-8"
   ]
  },
  {
   "cell_type": "code",
   "execution_count": null,
   "id": "38e18501",
   "metadata": {},
   "outputs": [],
   "source": [
    "((10e-6)**2)/(0.2e-6 *300e-12)*(33 * 2.1e-8 + base_mem) , ((10e-6)**2)/(0.2e-6 *300e-12)*(33 * 2.1e-8 + 0)"
   ]
  },
  {
   "cell_type": "markdown",
   "id": "5d421c18",
   "metadata": {},
   "source": [
    "## Update for modeling - partitioning active zones into compartment 2 so as to not overcount calcium."
   ]
  },
  {
   "cell_type": "code",
   "execution_count": null,
   "id": "bf388793",
   "metadata": {},
   "outputs": [],
   "source": [
    "def dropNP(l, lz ,𝜆 ,d, csn, csca, fr, D):\n",
    "    return (l**2 /(D * d)  )*( csn* 𝜆 +  csca*(lz/l) )*fr "
   ]
  },
  {
   "cell_type": "code",
   "execution_count": null,
   "id": "b6efe9e4",
   "metadata": {},
   "outputs": [],
   "source": [
    "dropNP(10, 2 ,  0.8 , 0.3/m2µm , cSA, cSA, 33, 300 )"
   ]
  },
  {
   "cell_type": "code",
   "execution_count": null,
   "id": "bade1da4",
   "metadata": {},
   "outputs": [],
   "source": [
    "dropNP(11, 4 , 0.8 , 0.3/m2µm , cSA, cSA, 100, 300 )"
   ]
  },
  {
   "cell_type": "code",
   "execution_count": null,
   "id": "e121cf80",
   "metadata": {},
   "outputs": [],
   "source": [
    "fr_range = np.array([1,10,33,50,80,100])\n",
    "# def beta(ADP_1,PhT=7.5+3.3,AdT=2.18,KPh=39.6):\n",
    "#     return KPh*AdT*PhT/((AdT + (KPh - 1)*ADP_1)**2)\n",
    "\n",
    "Drop_NPrange = dropNP(11, 2 , 0.8 , 0.3/m2µm , cSA, cSA, fr_range, 300 )\n",
    "Drop_APrange = dropNP(11, 2 , 0.8 , 0.3/m2µm , cSA, cSA, fr_range, 300 )*300/(300 + 300*beta(0.03) )\n",
    "Drop_CPrange = dropNP(11, 2 , 0.8 , 0.3/m2µm , cSA, cSA, fr_range, 300 )*300/(300 + 300*beta(0.03,6.6,2.18,166) )\n"
   ]
  },
  {
   "cell_type": "code",
   "execution_count": null,
   "id": "07f465ab",
   "metadata": {},
   "outputs": [],
   "source": [
    "plt.plot(fr_range,Drop_NPrange,color='black', label='No Phos')\n",
    "plt.plot(fr_range,Drop_APrange,color='red', label ='Tot Arg = 7.5+3.3, Tot AdT = 2.18 ')\n",
    "plt.plot(fr_range,Drop_CPrange,color='blue', label ='Tot Cr = 3.0+3.6, Tot AdT = 2.18 ' )\n",
    "plt.xlabel('Firing Rate (Hz)')\n",
    "plt.ylabel('ATP Drop mM')\n",
    "plt.title('L=11µm, Lz=2µm')\n",
    "plt.legend()\n",
    "plt.grid()\n",
    "plt.show()"
   ]
  },
  {
   "cell_type": "code",
   "execution_count": null,
   "id": "deadf583",
   "metadata": {},
   "outputs": [],
   "source": [
    "Drop_NPrange = dropNP(11, 2 , 0.8 , 0.3/m2µm , cSA, cSA, fr_range, 300 )\n",
    "Drop_APrange = dropNP(11, 2 , 0.8 , 0.3/m2µm , cSA, cSA, fr_range, 300 )*300/(300 + 300*beta(0.03, AdT=3.0) )\n",
    "Drop_CPrange = dropNP(11, 2 , 0.8 , 0.3/m2µm , cSA, cSA, fr_range, 300 )*300/(300 + 300*beta(0.03,6.6,3.0,166) )\n",
    "plt.plot(fr_range,Drop_NPrange,color='black', label='No Phos')\n",
    "plt.plot(fr_range,Drop_APrange,color='red', label ='Tot Arg = 7.5+3.8 ')\n",
    "plt.plot(fr_range,Drop_CPrange,color='blue', label ='Tot Cr = 3.0+3.6 ' )\n",
    "plt.xlabel('Firing Rate (Hz)')\n",
    "plt.ylabel('ATP Drop mM')\n",
    "plt.legend()\n",
    "plt.grid()\n",
    "plt.show()\n"
   ]
  },
  {
   "cell_type": "code",
   "execution_count": null,
   "id": "79ace1ce",
   "metadata": {},
   "outputs": [],
   "source": [
    "Drop_NPrange[-1],Drop_APrange[-1], Drop_CPrange[-1]"
   ]
  },
  {
   "cell_type": "code",
   "execution_count": null,
   "id": "a41a44fd",
   "metadata": {},
   "outputs": [],
   "source": [
    "Drop_NPrange = dropNP(5, 1 , 0.8 , 0.3/m2µm , cSA, cSA, fr_range, 300 )\n",
    "Drop_APrange = dropNP(5, 1 , 0.8 , 0.3/m2µm , cSA, cSA, fr_range, 300 )*300/(300 + 450*beta(0.03, AdT=2.18) )\n",
    "Drop_CPrange = dropNP(5, 1 , 0.8 , 0.3/m2µm , cSA, cSA, fr_range, 300 )*300/(300 + 450*beta(0.03,6.6,2.18,166) )\n",
    "plt.plot(fr_range,Drop_NPrange,color='black', label='No Phos')\n",
    "plt.plot(fr_range,Drop_APrange,color='red', label ='Tot Arg = 7.5+3.3, Tot AdT =2.18mM ')\n",
    "plt.plot(fr_range,Drop_CPrange,color='blue', label ='Tot Cr = 3.0+3.6, Tot AdT =2.18mM ' )\n",
    "plt.xlabel('Firing Rate (Hz)')\n",
    "plt.ylabel('ATP Drop mM')\n",
    "plt.ylim(0,1.5)\n",
    "plt.legend()\n",
    "plt.title('L=5µm, Lz=1µm')\n",
    "plt.grid()\n",
    "plt.show()"
   ]
  },
  {
   "cell_type": "code",
   "execution_count": null,
   "id": "8e9e6dab",
   "metadata": {},
   "outputs": [],
   "source": []
  },
  {
   "cell_type": "code",
   "execution_count": null,
   "id": "260ddd1a",
   "metadata": {},
   "outputs": [],
   "source": []
  },
  {
   "cell_type": "code",
   "execution_count": null,
   "id": "cb9af992",
   "metadata": {},
   "outputs": [],
   "source": []
  },
  {
   "cell_type": "code",
   "execution_count": null,
   "id": "8a295261",
   "metadata": {},
   "outputs": [],
   "source": []
  }
 ],
 "metadata": {
  "kernelspec": {
   "display_name": "Python 3 (ipykernel)",
   "language": "python",
   "name": "python3"
  },
  "language_info": {
   "codemirror_mode": {
    "name": "ipython",
    "version": 3
   },
   "file_extension": ".py",
   "mimetype": "text/x-python",
   "name": "python",
   "nbconvert_exporter": "python",
   "pygments_lexer": "ipython3",
   "version": "3.10.9"
  }
 },
 "nbformat": 4,
 "nbformat_minor": 5
}
