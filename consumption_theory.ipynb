{
 "cells": [
  {
   "cell_type": "code",
   "execution_count": 1,
   "id": "673df8ec",
   "metadata": {},
   "outputs": [],
   "source": [
    "import numpy as np\n",
    "import matplotlib as plt"
   ]
  },
  {
   "cell_type": "code",
   "execution_count": 31,
   "id": "90ca823a",
   "metadata": {},
   "outputs": [],
   "source": [
    "avo = 6.022e23\n",
    "m2µm  = 1e6\n",
    "def surf_a(d, l):\n",
    "    return np.pi *  d  * l\n",
    "def vol(d , l ):\n",
    "    return np.pi*l*(d/2)**2\n",
    "\n",
    "base_cyt = 10432667.412756/((3.1e-16 )*avo)   #moles ATP /sec per m^3 \n",
    "base_mem = 909175.81/((5.68e-10 )*avo)      #moles ATP /sec per m^2\n",
    "\n",
    "def base_cons(volume, sarea , bc=base_cyt, bm = base_mem ):\n",
    "    return bc*volume + bm * sarea"
   ]
  },
  {
   "cell_type": "code",
   "execution_count": 27,
   "id": "ec9837ba",
   "metadata": {},
   "outputs": [
    {
     "data": {
      "text/plain": [
       "(0.05588469918233145, 2.658023310069651e-09)"
      ]
     },
     "execution_count": 27,
     "metadata": {},
     "output_type": "execute_result"
    }
   ],
   "source": [
    "base_cyt,base_mem"
   ]
  },
  {
   "cell_type": "code",
   "execution_count": 28,
   "id": "40f6230a",
   "metadata": {},
   "outputs": [],
   "source": [
    "d_range = np.arange(0,10,0.1)  # diameters in µm\n",
    "l_range  = np.arange(0,10,0.1)  # length from mito midpoint to midpoint b/w  mito"
   ]
  },
  {
   "cell_type": "code",
   "execution_count": 36,
   "id": "5b39acb7",
   "metadata": {},
   "outputs": [
    {
     "name": "stderr",
     "output_type": "stream",
     "text": [
      "C:\\Users\\ssempertegui2016\\AppData\\Local\\Temp\\ipykernel_1476\\3425660271.py:1: RuntimeWarning: invalid value encountered in divide\n",
      "  base_cons(vol(d_range/m2µm,l_range/m2µm),surf_a(d_range/m2µm,l_range/m2µm))/vol(d_range/m2µm,l_range/m2µm)\n"
     ]
    },
    {
     "data": {
      "text/plain": [
       "array([       nan, 0.16220563, 0.10904517, 0.09132501, 0.08246493,\n",
       "       0.07714889, 0.07360485, 0.0710734 , 0.06917482, 0.06769814,\n",
       "       0.06651679, 0.06555024, 0.06474478, 0.06406323, 0.06347905,\n",
       "       0.06297276, 0.06252976, 0.06213887, 0.06179142, 0.06148054,\n",
       "       0.06120075, 0.0609476 , 0.06071747, 0.06050735, 0.06031474,\n",
       "       0.06013754, 0.05997397, 0.05982251, 0.05968188, 0.05955094,\n",
       "       0.05942873, 0.05931441, 0.05920723, 0.05910655, 0.05901179,\n",
       "       0.05892244, 0.05883806, 0.05875824, 0.05868262, 0.05861088,\n",
       "       0.05854272, 0.05847789, 0.05841615, 0.05835728, 0.05830108,\n",
       "       0.05824739, 0.05819602, 0.05814685, 0.05809972, 0.05805451,\n",
       "       0.05801112, 0.05796942, 0.05792933, 0.05789075, 0.05785361,\n",
       "       0.05781781, 0.05778329, 0.05774998, 0.05771782, 0.05768675,\n",
       "       0.05765671, 0.05762767, 0.05759955, 0.05757233, 0.05754596,\n",
       "       0.05752041, 0.05749562, 0.05747158, 0.05744824, 0.05742558,\n",
       "       0.05740357, 0.05738218, 0.05736138, 0.05734115, 0.05732147,\n",
       "       0.05730231, 0.05728366, 0.05726549, 0.05724779, 0.05723053,\n",
       "       0.05721371, 0.0571973 , 0.0571813 , 0.05716567, 0.05715042,\n",
       "       0.05713553, 0.05712099, 0.05710678, 0.05709289, 0.05707932,\n",
       "       0.05706604, 0.05705306, 0.05704036, 0.05702794, 0.05701577,\n",
       "       0.05700387, 0.05699221, 0.05698079, 0.05696961, 0.05695865])"
      ]
     },
     "execution_count": 36,
     "metadata": {},
     "output_type": "execute_result"
    }
   ],
   "source": [
    "base_cons(vol(d_range/m2µm,l_range/m2µm),surf_a(d_range/m2µm,l_range/m2µm))/vol(d_range/m2µm,l_range/m2µm)\n"
   ]
  },
  {
   "cell_type": "code",
   "execution_count": 35,
   "id": "cb650cbf",
   "metadata": {},
   "outputs": [
    {
     "name": "stderr",
     "output_type": "stream",
     "text": [
      "C:\\Users\\ssempertegui2016\\AppData\\Local\\Temp\\ipykernel_1476\\3425660271.py:1: RuntimeWarning: invalid value encountered in divide\n",
      "  base_cons(vol(d_range/m2µm,l_range/m2µm),surf_a(d_range/m2µm,l_range/m2µm))/vol(d_range/m2µm,l_range/m2µm)\n"
     ]
    },
    {
     "data": {
      "text/plain": [
       "array([       nan, 0.16220563, 0.10904517, 0.09132501, 0.08246493,\n",
       "       0.07714889, 0.07360485, 0.0710734 , 0.06917482, 0.06769814,\n",
       "       0.06651679, 0.06555024, 0.06474478, 0.06406323, 0.06347905,\n",
       "       0.06297276, 0.06252976, 0.06213887, 0.06179142, 0.06148054,\n",
       "       0.06120075, 0.0609476 , 0.06071747, 0.06050735, 0.06031474,\n",
       "       0.06013754, 0.05997397, 0.05982251, 0.05968188, 0.05955094,\n",
       "       0.05942873, 0.05931441, 0.05920723, 0.05910655, 0.05901179,\n",
       "       0.05892244, 0.05883806, 0.05875824, 0.05868262, 0.05861088,\n",
       "       0.05854272, 0.05847789, 0.05841615, 0.05835728, 0.05830108,\n",
       "       0.05824739, 0.05819602, 0.05814685, 0.05809972, 0.05805451,\n",
       "       0.05801112, 0.05796942, 0.05792933, 0.05789075, 0.05785361,\n",
       "       0.05781781, 0.05778329, 0.05774998, 0.05771782, 0.05768675,\n",
       "       0.05765671, 0.05762767, 0.05759955, 0.05757233, 0.05754596,\n",
       "       0.05752041, 0.05749562, 0.05747158, 0.05744824, 0.05742558,\n",
       "       0.05740357, 0.05738218, 0.05736138, 0.05734115, 0.05732147,\n",
       "       0.05730231, 0.05728366, 0.05726549, 0.05724779, 0.05723053,\n",
       "       0.05721371, 0.0571973 , 0.0571813 , 0.05716567, 0.05715042,\n",
       "       0.05713553, 0.05712099, 0.05710678, 0.05709289, 0.05707932,\n",
       "       0.05706604, 0.05705306, 0.05704036, 0.05702794, 0.05701577,\n",
       "       0.05700387, 0.05699221, 0.05698079, 0.05696961, 0.05695865])"
      ]
     },
     "execution_count": 35,
     "metadata": {},
     "output_type": "execute_result"
    }
   ],
   "source": []
  },
  {
   "cell_type": "code",
   "execution_count": null,
   "id": "66e1fe74",
   "metadata": {},
   "outputs": [],
   "source": []
  }
 ],
 "metadata": {
  "kernelspec": {
   "display_name": "Python 3 (ipykernel)",
   "language": "python",
   "name": "python3"
  },
  "language_info": {
   "codemirror_mode": {
    "name": "ipython",
    "version": 3
   },
   "file_extension": ".py",
   "mimetype": "text/x-python",
   "name": "python",
   "nbconvert_exporter": "python",
   "pygments_lexer": "ipython3",
   "version": "3.10.9"
  }
 },
 "nbformat": 4,
 "nbformat_minor": 5
}
