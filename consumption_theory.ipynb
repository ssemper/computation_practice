{
 "cells": [
  {
   "cell_type": "code",
   "execution_count": null,
   "id": "673df8ec",
   "metadata": {},
   "outputs": [],
   "source": [
    "import numpy as np\n",
    "import matplotlib.pyplot as plt\n",
    "from mpl_toolkits.mplot3d import axes3d\n",
    "%matplotlib inline"
   ]
  },
  {
   "cell_type": "code",
   "execution_count": null,
   "id": "90ca823a",
   "metadata": {},
   "outputs": [],
   "source": [
    "avo = 6.022e23\n",
    "m2µm  = 1e6\n",
    "def surf_a(d, l):\n",
    "    return np.pi *  d  * l\n",
    "def vol(d , l ):\n",
    "    return np.pi*l*(d/2)**2\n",
    "def cross_a(d):\n",
    "    return np.pi *  (d/2)**2\n",
    "\n",
    "base_cyt = 10432667.412756/((3.1e-16 )*avo)   #moles ATP /sec per m^3 \n",
    "base_mem = 909175.81/((5.68e-10 )*avo)      #moles ATP /sec per m^2\n",
    "\n",
    "DATP = 300  ## µm^2/s\n",
    "def base_cons(volume, sarea , bc=base_cyt, bm = base_mem ):\n",
    "    return bc*volume + bm * sarea\n",
    "\n",
    "d_range = np.arange(0.1,1,0.1)  # diameters in µm\n",
    "l_range  = np.arange(1,5,0.1)  # length from mito midpoint to midpoint b/w  mito\n",
    "\n",
    "X = np.copy(d_range)\n",
    "Y = np.copy(l_range)\n",
    "X, Y = np.meshgrid(d_range, l_range)\n",
    "Z = base_cons(vol(X/m2µm,Y/m2µm),surf_a(X/m2µm,Y/m2µm))\n",
    "\n"
   ]
  },
  {
   "cell_type": "markdown",
   "id": "9935c513",
   "metadata": {},
   "source": [
    "## Good first - add contours of single lines for fixed diameters"
   ]
  },
  {
   "cell_type": "code",
   "execution_count": null,
   "id": "66e1fe74",
   "metadata": {},
   "outputs": [],
   "source": [
    "ax = plt.figure().add_subplot(1, 1, 1, projection='3d')\n",
    "surf = ax.plot_surface(X, Y, Z, linewidth=0, antialiased=True)\n",
    "ax.set_xlabel('Diameter µm')\n",
    "ax.set_ylabel('Intervari. length µm')\n",
    "ax.set_zlabel('Rest Consumption (ATP moles x 10^-17 /s)')\n",
    "ax.dist = 13\n",
    "plt.show()"
   ]
  },
  {
   "cell_type": "markdown",
   "id": "26f3e9ff",
   "metadata": {},
   "source": [
    "## Consumption estimates for activity:  https://www.jneurosci.org/content/42/6/954/tab-figures-data\n",
    "\n",
    "Fig 3 (F) == Power ATP molecules per sec Ca2+\n",
    "Fig 4 (F) == Power ATP molecules per sec Na+\n",
    "\n",
    "comitted_ca and committed_na are ATP molecules per Action Potential\n",
    "Power demand taken from supple tables, ATP molecules per sec\n",
    "\n",
    "$M6Ib$ \n",
    "\n",
    "6.82e7    ATP molecules/s for Ca2+\n",
    "\n",
    "6.49e7    for Na\n",
    "\n",
    "5.68e-10       SA:m^2\n",
    "\n",
    "\n",
    "$M6Is$\n",
    "\n",
    "0.33e7\n",
    "\n",
    "0.3e7\n",
    "\n",
    "2.34e-10\n",
    "\n",
    "\n",
    "$M13Ib$\n",
    "\n",
    "9.97e7\n",
    "\n",
    "12.1e7\n",
    "\n",
    "5.43e-10\n",
    "\n",
    "\n",
    "$M13Is$\n",
    "\n",
    "0.31e7\n",
    "\n",
    "0.32e7\n",
    "\n",
    "2.51e-10\n",
    "\n",
    "$M12Ib$\n",
    "\n",
    "8.46e7\n",
    "\n",
    "7.93e7\n",
    "\n",
    "5.95e-10\n",
    "\n",
    "$M12Is$\n",
    "\n",
    "0.49e7\n",
    "\n",
    "0.37e7\n",
    "\n",
    "2.95e-10"
   ]
  },
  {
   "cell_type": "code",
   "execution_count": null,
   "id": "e935e1f5",
   "metadata": {},
   "outputs": [],
   "source": [
    "terms = {\n",
    "    \"M61b\" : {'power_sa': (6.28e7+6.49e7)/avo ,'power_vol': 2.27e7 /avo ,'area':5.68e-10 , 'volume':3.1e-16 },\\\n",
    "    'M61s':  {'power_sa': (0.33e7+0.3e7)/avo  ,'power_vol': 0.29e7 /avo  ,'area':2.34e-10 , 'volume':9.01e-17 }, \\\n",
    "    'M131b': {'power_sa': (9.97e7+12.1e7)/avo ,'power_vol': 2.4e7  /avo ,'area':5.43e-10 , 'volume':3.92e-16 } \n",
    "            } "
   ]
  },
  {
   "cell_type": "code",
   "execution_count": null,
   "id": "b9e13052",
   "metadata": {},
   "outputs": [],
   "source": [
    "#X and Y are diameters and lengths respectively.  ZA and ZV are  areal and volumic consumptions respectively\n",
    "#"
   ]
  },
  {
   "cell_type": "code",
   "execution_count": null,
   "id": "ce913020",
   "metadata": {},
   "outputs": [],
   "source": [
    "fig = plt.figure(figsize=plt.figaspect(0.45))\n",
    "ax1 = fig.add_subplot(1,2,1, projection ='3d')\n",
    "\n",
    "ZA = terms['M61b']['power_sa']*surf_a(X/m2µm,Y/m2µm)/terms['M61b']['area']/1\n",
    "surf = ax1.plot_surface(X, Y, ZA, linewidth=0, antialiased=True)\n",
    "ZA2 = terms['M61s']['power_sa']*surf_a(X/m2µm,Y/m2µm)/terms['M61s']['area']\n",
    "surf = ax1.plot_surface(X, Y, ZA2, linewidth=0, antialiased=True)\n",
    "ax1.set_xlabel('Diameter µm')\n",
    "ax1.set_ylabel('Compartment length µm')\n",
    "ax1.set_zlabel('Surf_area Consumption (ATP moles x 10^-17 /s)')\n",
    "\n",
    "ax2= fig.add_subplot(1,2,2,projection='3d')\n",
    "ZV = terms['M61b']['power_vol']*vol(X/m2µm,Y/m2µm)/terms['M61b']['volume']/1\n",
    "surf = ax2.plot_surface(X, Y, ZV, linewidth=0, antialiased=True)\n",
    "Z2V = terms['M61s']['power_vol']*vol(X/m2µm,Y/m2µm)/terms['M61s']['volume']\n",
    "surf = ax2.plot_surface(X, Y, Z2V, linewidth=0, antialiased=True)\n",
    "ax2.set_xlabel('Diameter µm')\n",
    "ax2.set_ylabel('Compartment length µm')\n",
    "ax2.set_zlabel('Volume Consumption (ATP moles x 10^-18 /s)')\n",
    "ax2.dist = 13\n",
    "plt.show()"
   ]
  },
  {
   "cell_type": "code",
   "execution_count": null,
   "id": "aff5ffbf",
   "metadata": {},
   "outputs": [],
   "source": []
  },
  {
   "cell_type": "code",
   "execution_count": null,
   "id": "0e5f9f8d",
   "metadata": {},
   "outputs": [],
   "source": [
    "#  Quantifying largest consumptions in terms  of mM/s, presuming \n",
    "#the  largest consumptions come from the thinnest and longest axons\n",
    "\n",
    "print((max(ZA[-1])/vol(     min(d_range)/m2µm  ,  max(l_range)/m2µm   ), \\\n",
    "max(ZV[-1])/vol(     min(d_range)/m2µm  ,  max(l_range)/m2µm   ) ),  str('mM/s'))"
   ]
  },
  {
   "cell_type": "markdown",
   "id": "a285eb6a",
   "metadata": {},
   "source": [
    "### ATP Drops for endogenous EFR of M6Ib"
   ]
  },
  {
   "cell_type": "code",
   "execution_count": null,
   "id": "21f5f1f1",
   "metadata": {},
   "outputs": [],
   "source": [
    "ax1 = plt.figure().add_subplot(1, 1, 1, projection='3d')\n",
    "ATP_drop = (ZA+ZV)*(Y/m2µm)/(2*np.pi*(DATP/(m2µm)**2 )*(X/m2µm)**2/4)\n",
    "ATP_drop_base = (base_cons(vol(X/m2µm,Y/m2µm), surf_a(X/m2µm,Y/m2µm)))*(Y/m2µm)/(2*np.pi*(DATP/(m2µm)**2 )*(X/m2µm)**2/4)\n",
    "surf1 = ax1.plot_surface(X, Y,ATP_drop*100/18, linewidth=0, antialiased=True)\n",
    "ax1.set_xlabel('Diameter µm')\n",
    "ax1.set_ylabel('Compartment length µm')\n",
    "ax1.set_zlabel('Difference in [ATP] from mito to neighbor mM/s')\n",
    "ax1.dist = 13\n",
    "plt.show()\n",
    "\n",
    "ax2 = plt.figure().add_subplot(1, 1, 1, projection='3d')\n",
    "surf2 = ax2.plot_surface(X, Y,ATP_drop*100/18+ATP_drop_base, linewidth=0, antialiased=True)\n",
    "ax2.set_xlabel('Diameter µm')\n",
    "ax2.set_ylabel('Compartment length µm')\n",
    "ax2.set_zlabel('Difference in [ATP] from mito to neighbor mM/s')\n",
    "ax2.dist = 13\n",
    "plt.show()\n",
    "\n",
    "\n",
    "ax3 = plt.figure().add_subplot(1, 1, 1, projection='3d')\n",
    "surf3 = ax3.plot_surface(X, Y,ATP_drop_base, linewidth=0, antialiased=True)\n",
    "ax3.set_xlabel('Diameter µm')\n",
    "ax3.set_ylabel('Compartment length µm')\n",
    "ax3.set_zlabel('Difference in [ATP] from mito to neighbor mM/s')\n",
    "ax3.dist = 13\n",
    "plt.show()"
   ]
  },
  {
   "cell_type": "code",
   "execution_count": null,
   "id": "3553754a",
   "metadata": {},
   "outputs": [],
   "source": [
    "(100/18)*ATP_drop[-1] , ATP_drop_base[-1]"
   ]
  },
  {
   "cell_type": "markdown",
   "id": "c9645ceb",
   "metadata": {},
   "source": [
    "### Apply to \" squid \" system with 2.18 (AdT), PhT 3.3+7.5, Kph  = 39.6, ADP_1???"
   ]
  },
  {
   "cell_type": "code",
   "execution_count": null,
   "id": "008ec486",
   "metadata": {},
   "outputs": [],
   "source": [
    "def beta(ADP_1,PhT=7.5+3.3,AdT=2.18,KPh=39.6):\n",
    "    return KPh*AdT*PhT/((AdT + (KPh - 1)*ADP_1)**2)"
   ]
  },
  {
   "cell_type": "code",
   "execution_count": null,
   "id": "d449adae",
   "metadata": {},
   "outputs": [],
   "source": [
    "beta(.1)"
   ]
  },
  {
   "cell_type": "code",
   "execution_count": null,
   "id": "e5ecda93",
   "metadata": {},
   "outputs": [],
   "source": [
    "ax = plt.figure().add_subplot(1, 1, 1, projection='3d')\n",
    "\n",
    "Ph_ATP_drop = (ZA+ZV)*(Y/m2µm)/(2*np.pi*((DATP+beta(0.02)*450)/(m2µm)**2 )*(X/m2µm)**2/4)\n",
    "ATP_drop = (ZA+ZV)*(Y/m2µm)/(2*np.pi*((DATP)/(m2µm)**2 )*(X/m2µm)**2/4)\n",
    "\n",
    "surf1 = ax.plot_surface(X, Y,Ph_ATP_drop*100/18, linewidth=0, antialiased=True)\n",
    "surf2 = ax.plot_surface(X, Y,ATP_drop*100/18, linewidth=0, antialiased=True, alpha =0.4)\n",
    "\n",
    "ax.set_xlabel('Diameter µm')\n",
    "ax.set_ylabel('Compartment length µm')\n",
    "ax.set_zlabel('Difference in [ATP] from mito to neighbor mM/s')\n",
    "ax.dist = 13\n",
    "plt.show()"
   ]
  },
  {
   "cell_type": "code",
   "execution_count": null,
   "id": "a63bbbd8",
   "metadata": {},
   "outputs": [],
   "source": [
    "ax = plt.figure().add_subplot(1, 1, 1, projection='3d')\n",
    "\n",
    "Ph02_ATP_drop = (ZA+ZV)*(Y/m2µm)/(2*np.pi*((DATP+beta(0.02)*450)/(m2µm)**2 )*(X/m2µm)**2/4)\n",
    "Ph08_ATP_drop = (ZA+ZV)*(Y/m2µm)/(2*np.pi*((DATP+beta(0.08)*450)/(m2µm)**2 )*(X/m2µm)**2/4)\n",
    "\n",
    "surf1 = ax.plot_surface(X, Y,Ph02_ATP_drop*100/18, linewidth=0, antialiased=True)\n",
    "surf2 = ax.plot_surface(X, Y,Ph08_ATP_drop*100/18, linewidth=0, antialiased=True, alpha =0.4)\n",
    "\n",
    "ax.set_xlabel('Diameter µm')\n",
    "ax.set_ylabel('Compartment length µm')\n",
    "ax.set_zlabel('Difference in [ATP] from mito to neighbor mM/s')\n",
    "ax.dist = 13\n",
    "plt.show()"
   ]
  },
  {
   "cell_type": "markdown",
   "id": "31a962cf",
   "metadata": {},
   "source": [
    "## What treatments go together?\n",
    "\n",
    "### Ca2+ and Na+ go with surface area\n",
    "### base rates are already subdivided\n",
    "### \"signaling\" a la KJ 2022 is volumic (though shepard would probably object for en passant varicosities. Try this version later.\n",
    "\n",
    "An analytical solution for ATPdrop without phos is as follows:\n",
    "$$ \\Delta [ATP] = \\frac{2 l^2}{D_{ATP} d} \\left(C^v \\frac{d}{4} + C^{SA} \\right) $$\n",
    "\n",
    "where $l,d,C^V,C^{SA} $ are interbourton length, axon diameter, volumic ATP consumption density, and surface areal ATP consumption density"
   ]
  },
  {
   "cell_type": "code",
   "execution_count": null,
   "id": "77401c44",
   "metadata": {},
   "outputs": [],
   "source": []
  }
 ],
 "metadata": {
  "kernelspec": {
   "display_name": "Python 3 (ipykernel)",
   "language": "python",
   "name": "python3"
  },
  "language_info": {
   "codemirror_mode": {
    "name": "ipython",
    "version": 3
   },
   "file_extension": ".py",
   "mimetype": "text/x-python",
   "name": "python",
   "nbconvert_exporter": "python",
   "pygments_lexer": "ipython3",
   "version": "3.10.9"
  }
 },
 "nbformat": 4,
 "nbformat_minor": 5
}
