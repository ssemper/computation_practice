{
 "cells": [
  {
   "cell_type": "code",
   "execution_count": null,
   "id": "5d7a9f15",
   "metadata": {},
   "outputs": [],
   "source": [
    "import numpy as np\n",
    "import pandas as pd\n",
    "from matplotlib import pyplot  as plt"
   ]
  },
  {
   "cell_type": "markdown",
   "id": "aa6f0df2",
   "metadata": {},
   "source": [
    "## First model simple diffusion between two containers"
   ]
  },
  {
   "cell_type": "code",
   "execution_count": null,
   "id": "7084392e",
   "metadata": {},
   "outputs": [],
   "source": [
    "cont1 = {'volume' : 2 ,  # in cubic m\n",
    "              'area' : 3 }\n",
    "cont2 = {'volume' : 5 ,\n",
    "              'area' : 3 }\n",
    "area_bw    = 0.5             # sq m \n",
    "dx         = 0.1"
   ]
  },
  {
   "cell_type": "code",
   "execution_count": null,
   "id": "948bf4b6",
   "metadata": {},
   "outputs": [],
   "source": [
    "d_sol = 300 *1e-6                # (1e-12)  #   300 µm^2 / s\n",
    "sol1 = 6                #  initial moles of solute in container 1\n",
    "sol2 = 4                #  initial moles of solute in container 2\n",
    "sol0 = sol1 + sol2"
   ]
  },
  {
   "cell_type": "code",
   "execution_count": null,
   "id": "f482a5be",
   "metadata": {},
   "outputs": [],
   "source": [
    "times = np.arange(-1,10000,0.1)\n",
    "#print(times)\n",
    "data1 = np.zeros(len(times))\n",
    "data2 = np.zeros(len(times))"
   ]
  },
  {
   "cell_type": "code",
   "execution_count": null,
   "id": "1532a969",
   "metadata": {},
   "outputs": [],
   "source": [
    "flux = lambda x1,x2 : d_sol * (x1-x2)/dx\n",
    "\n",
    "data1[0] = sol1/cont1['volume']\n",
    "data2[0] = sol2/cont2['volume']"
   ]
  },
  {
   "cell_type": "code",
   "execution_count": null,
   "id": "d23de3aa",
   "metadata": {},
   "outputs": [],
   "source": [
    "for i in np.arange(1,len(times)):\n",
    "    dt = times[i]-times[i-1]\n",
    "    f  = flux( data1[i-1] , data2[i-1] ) * dt * area_bw\n",
    "    data1[i] =  -f/cont1['volume'] + data1[i-1]\n",
    "    data2[i] =  f/cont2['volume'] + data2[i-1]"
   ]
  },
  {
   "cell_type": "code",
   "execution_count": null,
   "id": "c6440871",
   "metadata": {},
   "outputs": [],
   "source": [
    "#%matplotlib\n",
    "plt.plot(times,data1, color='red', linewidth=1.5)\n",
    "plt.plot(times,data2, color='green', linewidth=1.5)\n",
    "plt.show()\n"
   ]
  },
  {
   "cell_type": "code",
   "execution_count": null,
   "id": "37c8a586",
   "metadata": {},
   "outputs": [],
   "source": [
    " data1[-1]*cont1['volume'] + data2[-1]*cont2['volume']"
   ]
  },
  {
   "cell_type": "code",
   "execution_count": null,
   "id": "d6a451a4",
   "metadata": {},
   "outputs": [],
   "source": [
    "data1[-1]"
   ]
  },
  {
   "cell_type": "markdown",
   "id": "dbbc7d42",
   "metadata": {},
   "source": [
    "## Adding active diffusion.  I will arbitrarily say that this will pump  from container 2 in to container one.  Additionally, this will "
   ]
  },
  {
   "cell_type": "code",
   "execution_count": null,
   "id": "4379419c",
   "metadata": {},
   "outputs": [],
   "source": [
    "data1_act = np.zeros(len(times))\n",
    "data2_act = np.zeros(len(times))\n",
    "data1_act[0] = sol1/cont1['volume']\n",
    "data2_act[0] = sol2/cont2['volume']\n",
    "K2_1 = 0.008\n",
    "\n",
    "for i in np.arange(1,len(times)):\n",
    "    dt       = times[i]-times[i-1]\n",
    "    f        = flux( data1_act[i-1] , data2_act[i-1] ) * dt * area_bw\n",
    "    act_dif  = K2_1 * data2_act[i-1] * dt\n",
    "    data1_act[i] =  -f/cont1['volume'] + act_dif*(cont2['volume']/cont1['volume']) + data1_act[i-1]\n",
    "    data2_act[i] =  f/cont2['volume']  - act_dif + data2_act[i-1]"
   ]
  },
  {
   "cell_type": "code",
   "execution_count": null,
   "id": "83e98291",
   "metadata": {},
   "outputs": [],
   "source": [
    "plt.plot(times,data1_act, color='red', linewidth=1.5, label='container1')\n",
    "plt.plot(times,data2_act, color='green', linewidth=1.5,label='container2')\n",
    "plt.legend()\n",
    "plt.show()"
   ]
  },
  {
   "cell_type": "code",
   "execution_count": null,
   "id": "ab6bfe4b",
   "metadata": {},
   "outputs": [],
   "source": [
    " data1_act[-1]*cont1['volume'] + data2_act[-1]*cont2['volume']"
   ]
  },
  {
   "cell_type": "code",
   "execution_count": null,
   "id": "4da43f00",
   "metadata": {},
   "outputs": [],
   "source": [
    "print(data1_act[-1]*cont1['volume'] , data2_act[-1]*cont2['volume'])"
   ]
  },
  {
   "cell_type": "code",
   "execution_count": null,
   "id": "761d7789",
   "metadata": {},
   "outputs": [],
   "source": [
    "alpha = area_bw*d_sol/K2_1/dx"
   ]
  },
  {
   "cell_type": "code",
   "execution_count": null,
   "id": "45a343b1",
   "metadata": {},
   "outputs": [],
   "source": [
    "(alpha/cont1['volume']) * 1 / (1 + alpha * (cont1['volume']+cont2['volume'])/(cont1['volume']*cont2['volume'])   )  * sol0"
   ]
  },
  {
   "cell_type": "code",
   "execution_count": null,
   "id": "543fd87e",
   "metadata": {},
   "outputs": [],
   "source": [
    "sol0 - (alpha/cont1['volume']) * 1 / (1 + alpha * (cont1['volume']+cont2['volume'])/(cont1['volume']*cont2['volume'])   )  * sol0"
   ]
  },
  {
   "cell_type": "markdown",
   "id": "16993fa6",
   "metadata": {},
   "source": [
    "## Different solutions at the same time"
   ]
  },
  {
   "cell_type": "code",
   "execution_count": null,
   "id": "41255e0b",
   "metadata": {},
   "outputs": [],
   "source": [
    "solA1  =  15   # moles\n",
    "solB1  =  7   # moles\n",
    "solC1  =  9   # moles\n",
    "solA2  =  3   # moles\n",
    "solB2  =  6   # moles\n",
    "solC2  =  7   # moles\n",
    "\n",
    "data1_3  =  np.zeros((3, len(times)))\n",
    "data2_3  =  np.zeros((3, len(times)))\n",
    "\n",
    "data1_3[0,0], data1_3[1,0],data1_3[2,0] = np.array([solA1, solB1 ,solC1])/cont1['volume']\n",
    "data2_3[0,0], data2_3[1,0],data2_3[2,0] = np.array([solA2, solB2 ,solC2])/cont2['volume']\n",
    "for i in np.arange(1,len(times),1):\n",
    "    dt       = times[i]-times[i-1]\n",
    "    f        = flux( data1_3[:,i-1] , data2_3[:,i-1] ) * dt * area_bw\n",
    "    data1_3[:,i] = -f/cont1['volume'] + data1_3[:,i-1]\n",
    "    data2_3[:,i] = f/cont2['volume'] + data2_3[:,i-1]"
   ]
  },
  {
   "cell_type": "code",
   "execution_count": null,
   "id": "6f808bf2",
   "metadata": {
    "scrolled": true
   },
   "outputs": [],
   "source": [
    "for i in [0,1,2]:\n",
    "    plt.plot(times, data1_3[i,:])\n",
    "    plt.plot(times, data2_3[i,:])\n",
    "plt.show()"
   ]
  },
  {
   "cell_type": "code",
   "execution_count": null,
   "id": "04113382",
   "metadata": {},
   "outputs": [],
   "source": [
    "(solA1 + solA2)/ ( data1_3[0,-1]*cont1['volume']+data2_3[0,-1]*cont2['volume'] ), \\\n",
    "(solB1 + solB2)/ ( data1_3[1,-1]*cont1['volume']+data2_3[1,-1]*cont2['volume'] ), \\\n",
    "(solC1 + solC2)/ ( data1_3[2,-1]*cont1['volume']+data2_3[2,-1]*cont2['volume'] )"
   ]
  },
  {
   "cell_type": "code",
   "execution_count": null,
   "id": "1d5d23b6",
   "metadata": {},
   "outputs": [],
   "source": [
    "data1_3[0,0], data1_3[1,0],data1_3[2,0] = np.array([solA1, solB1 ,solC1])/cont1['volume']\n",
    "data2_3[0,0], data2_3[1,0],data2_3[2,0] = np.array([solA2, solB2 ,solC2])/cont2['volume']\n",
    "for i in np.arange(1,len(times),1):\n",
    "    dt       = times[i]-times[i-1]\n",
    "    f        = flux( data1_3[:,i-1] , data2_3[:,i-1] ) * dt * area_bw\n",
    "    data1_3[:,i] = -f/cont1['volume'] + data1_3[:,i-1]\n",
    "    data2_3[:,i] = f/cont2['volume'] + data2_3[:,i-1]\n",
    "    if (i%10000 ==0)  :\n",
    "        print(i)\n",
    "        data1_3[0,i] += 2\n",
    "        data2_3[0,i] -= 2 * cont1['volume']/cont2['volume']"
   ]
  },
  {
   "cell_type": "code",
   "execution_count": null,
   "id": "d3b773f1",
   "metadata": {},
   "outputs": [],
   "source": [
    "for i in [0,1,2]:\n",
    "    plt.plot(times, data1_3[i,:])\n",
    "    plt.plot(times, data2_3[i,:])\n",
    "plt.show()"
   ]
  },
  {
   "cell_type": "markdown",
   "id": "09e33cf0",
   "metadata": {},
   "source": [
    "## Let's tackle Sarah's Neuron\n",
    "\n",
    "Learn how to import specifically Sarah's neuron excel data. This then I will need area b/w, delta x between, each volume, whether or not it has a mito.  trial file name:  dorsal_AS5_DD3_part.xlsx"
   ]
  },
  {
   "cell_type": "code",
   "execution_count": null,
   "id": "336cacbe",
   "metadata": {},
   "outputs": [],
   "source": [
    "df = pd.read_excel('dorsal_AS5_DD3_part.xlsx')[4:]"
   ]
  },
  {
   "cell_type": "code",
   "execution_count": null,
   "id": "d1d7c176",
   "metadata": {},
   "outputs": [],
   "source": [
    "df.keys()"
   ]
  },
  {
   "cell_type": "code",
   "execution_count": null,
   "id": "74d44c18",
   "metadata": {},
   "outputs": [],
   "source": [
    "if np.gradient(df.Length)[1] in np.gradient(df.Length): \n",
    "    print('Use a uniform dx value')\n",
    "    dx = np.gradient(df.Length)[1]\n",
    "    Dia = np.asarray( df['Diam. Neuron.1'] )\n",
    "    tot_Vol = dx*np.pi/4 *( np.dot(Dia,Dia) - 0.5*(Dia[0]**2 + Dia[-1]**2) )    \n",
    "if np.gradient(df.Length)[1] not in np.gradient(df.Length): print('Make a dx table or index where dx is different')\n",
    "    ### Save for data sets without regular dx's"
   ]
  },
  {
   "cell_type": "code",
   "execution_count": null,
   "id": "520bee7c",
   "metadata": {
    "scrolled": true
   },
   "outputs": [],
   "source": [
    "Area_bw = []\n",
    "for i,d in enumerate(df['Diam. Neuron.1'][1:]):\n",
    "    Area_bw.append( min([d,Dia[i-1]] ) )\n",
    "print(Area_bw)    \n"
   ]
  },
  {
   "cell_type": "code",
   "execution_count": null,
   "id": "5c07ac1b",
   "metadata": {},
   "outputs": [],
   "source": [
    "#METABOLITES ALL IN mM.  Recall mM is SI units, i.e. moles / m^3 == mM \n",
    "KPH    = 39.6\n",
    "KAD    = 1\n",
    "ATP0   = 2.16\n",
    "ARGP0  = 7.5\n",
    "ARG0   = 3.3\n",
    "PI0    = 17.8\n",
    "ADP0   = ATP0*ARG0/ARGP0/KPH \n",
    "AMP0   = ADP0*ADP0/KAD/ATP0\n",
    "\n",
    "Tot_Mol_At = tot_Vol * (ATP0 + ADP0 + AMP0)\n",
    "Tot_Mol_Ph = tot_Vol * (ARG0 + ARGP0)\n",
    "\n"
   ]
  },
  {
   "cell_type": "code",
   "execution_count": null,
   "id": "83d41ad3",
   "metadata": {},
   "outputs": [],
   "source": [
    "dFlux = "
   ]
  },
  {
   "cell_type": "code",
   "execution_count": null,
   "id": "f41b7615",
   "metadata": {},
   "outputs": [],
   "source": [
    "np.zeros([5,3,2])"
   ]
  },
  {
   "cell_type": "code",
   "execution_count": null,
   "id": "25f1f988",
   "metadata": {},
   "outputs": [],
   "source": []
  }
 ],
 "metadata": {
  "kernelspec": {
   "display_name": "Python 3 (ipykernel)",
   "language": "python",
   "name": "python3"
  },
  "language_info": {
   "codemirror_mode": {
    "name": "ipython",
    "version": 3
   },
   "file_extension": ".py",
   "mimetype": "text/x-python",
   "name": "python",
   "nbconvert_exporter": "python",
   "pygments_lexer": "ipython3",
   "version": "3.10.9"
  }
 },
 "nbformat": 4,
 "nbformat_minor": 5
}
