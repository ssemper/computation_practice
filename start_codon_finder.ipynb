{
 "cells": [
  {
   "cell_type": "markdown",
   "id": "4b32cde7",
   "metadata": {},
   "source": [
    "## Let's try a writing a start codon finder:"
   ]
  },
  {
   "cell_type": "code",
   "execution_count": 19,
   "id": "84dfccd1",
   "metadata": {},
   "outputs": [],
   "source": [
    "import random"
   ]
  },
  {
   "cell_type": "code",
   "execution_count": 76,
   "id": "d1fd454e",
   "metadata": {},
   "outputs": [],
   "source": [
    "def gcode_generator(length, DorR,):\n",
    "    if DorR == 'd' or DorR == 'D':\n",
    "        library = ['A','T','C','G']\n",
    "    elif DorR == 'r' or DorR == 'R':\n",
    "        library = ['A','U','C','G']\n",
    "    else:\n",
    "        print('Try again.  Use in the 2nd argument \"d\" or \"D\" for DNA, or \"R\" \"r\" for RNA  ')\n",
    "        return False\n",
    "    strand=[]\n",
    "    for i in range(length):\n",
    "        strand += library[random.randint(0,3)]\n",
    "    return strand\n",
    "\n",
    "def reader(strand):\n",
    "    return \"\".join(strand)"
   ]
  },
  {
   "cell_type": "code",
   "execution_count": 56,
   "id": "4c885a06",
   "metadata": {},
   "outputs": [],
   "source": [
    "RNA = 'AGGUGUUUUCCAAACUACGGUCUCCUCAGCCCUCACGUGAGCGUCACUCUUCGAGGAUUA'\n",
    "DNA = 'AATAGTGAATATATTGGCAGATCATTAGTTAAACCTGGATTTAGGACCATTACCTCCCAA'"
   ]
  },
  {
   "cell_type": "code",
   "execution_count": 63,
   "id": "fd391a7b",
   "metadata": {},
   "outputs": [
    {
     "name": "stdout",
     "output_type": "stream",
     "text": [
      "0\n",
      "[]\n",
      "1\n",
      "['G']\n",
      "2\n",
      "['G', 'T']\n",
      "3\n",
      "['G', 'T', 'G']\n",
      "4\n",
      "['G', 'T', 'G', 'T']\n",
      "5\n",
      "['G', 'T', 'G', 'T', 'T']\n",
      "6\n",
      "['G', 'T', 'G', 'T', 'T', 'A']\n"
     ]
    },
    {
     "data": {
      "text/plain": [
       "['G', 'T', 'G', 'T', 'T', 'A', 'G']"
      ]
     },
     "execution_count": 63,
     "metadata": {},
     "output_type": "execute_result"
    }
   ],
   "source": [
    "gcode_generator(6,'d')"
   ]
  },
  {
   "cell_type": "code",
   "execution_count": 67,
   "id": "93aef83b",
   "metadata": {},
   "outputs": [],
   "source": [
    "DNA1 = gcode_generator(10,'d' )\n"
   ]
  },
  {
   "cell_type": "code",
   "execution_count": 73,
   "id": "9f118716",
   "metadata": {},
   "outputs": [
    {
     "name": "stdout",
     "output_type": "stream",
     "text": [
      "AGCCTAAAGA\n"
     ]
    }
   ],
   "source": [
    "J = [i for i in DNA1]\n",
    "print(\"\".join(J))"
   ]
  },
  {
   "cell_type": "code",
   "execution_count": 74,
   "id": "9f8dffa4",
   "metadata": {},
   "outputs": [
    {
     "name": "stdout",
     "output_type": "stream",
     "text": [
      "AGCCTAAAGA\n"
     ]
    }
   ],
   "source": [
    "print(\"\".join(DNA1))"
   ]
  },
  {
   "cell_type": "code",
   "execution_count": null,
   "id": "3a42e8ac",
   "metadata": {},
   "outputs": [],
   "source": []
  }
 ],
 "metadata": {
  "kernelspec": {
   "display_name": "Python 3 (ipykernel)",
   "language": "python",
   "name": "python3"
  },
  "language_info": {
   "codemirror_mode": {
    "name": "ipython",
    "version": 3
   },
   "file_extension": ".py",
   "mimetype": "text/x-python",
   "name": "python",
   "nbconvert_exporter": "python",
   "pygments_lexer": "ipython3",
   "version": "3.10.9"
  }
 },
 "nbformat": 4,
 "nbformat_minor": 5
}
