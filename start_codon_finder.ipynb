{
 "cells": [
  {
   "cell_type": "markdown",
   "id": "4b32cde7",
   "metadata": {},
   "source": [
    "## Let's try a writing a start codon finder:"
   ]
  },
  {
   "cell_type": "code",
   "execution_count": null,
   "id": "84dfccd1",
   "metadata": {},
   "outputs": [],
   "source": [
    "import random"
   ]
  },
  {
   "cell_type": "code",
   "execution_count": null,
   "id": "d1fd454e",
   "metadata": {},
   "outputs": [],
   "source": [
    "#output a random sequence of DNA or RNA in list form.  The 1st argument\n",
    "#specifies its length, the 2nd whether it's DNA or RNA (type 'd',D,r, or R).\n",
    "\n",
    "def gcode_generator(length, D_or_R):  \n",
    "    if D_or_R == 'd' or D_or_R == 'D':\n",
    "        library = ['A','T','C','G']\n",
    "    elif D_or_R == 'r' or D_or_R == 'R':\n",
    "        library = ['A','U','C','G']\n",
    "    else:\n",
    "        print('Try again.  Use in the 2nd argument \"d\" or \"D\" for DNA, or \"R\" \"r\" for RNA  ')\n",
    "        return False\n",
    "    strand=[]\n",
    "    for i in range(length):\n",
    "        strand += library[random.randint(0,3)]\n",
    "    return strand\n",
    "\n",
    "def reader(strand):\n",
    "    return \"\".join(strand)\n",
    "\n",
    "## Default first entry is 5'.\n",
    "def met_finder(strand, five_or_3 = 5):\n",
    "    if five_or_3 == 3:\n",
    "        strand=strand[::-1]\n",
    "    for i in range(len(strand)-2):\n",
    "        if reader(strand[i+1:i+4]) == 'ATG' or reader(strand[i+1:i+4]) == 'AUG':\n",
    "            print(i+2)\n",
    "        else:\n",
    "            continue\n",
    "def given_to_strand(given):\n",
    "    strand = []\n",
    "    for i in given:\n",
    "        strand += i\n",
    "    return list(strand)"
   ]
  },
  {
   "cell_type": "code",
   "execution_count": null,
   "id": "4c885a06",
   "metadata": {},
   "outputs": [],
   "source": [
    "RNA = 'AGGUGUUUUCCAAACUACGGUCUCCUCAGCCCUCACGUGAGCGUCACUCUUCGAGGAUUA'\n",
    "DNA = 'AATGGTGAATATATTGGCAGATCATTAGTTAAACCTGGATTTAGGACCATTACCTCCCAA'"
   ]
  },
  {
   "cell_type": "code",
   "execution_count": null,
   "id": "fd391a7b",
   "metadata": {},
   "outputs": [],
   "source": [
    "given_to_strand(DNA)"
   ]
  },
  {
   "cell_type": "code",
   "execution_count": null,
   "id": "93aef83b",
   "metadata": {},
   "outputs": [],
   "source": [
    "DNA1 = gcode_generator(10,'r' )\n",
    "print(DNA1)"
   ]
  },
  {
   "cell_type": "code",
   "execution_count": null,
   "id": "3a42e8ac",
   "metadata": {},
   "outputs": [],
   "source": [
    "met_finder(given_to_strand(DNA1),3)"
   ]
  },
  {
   "cell_type": "code",
   "execution_count": null,
   "id": "16125914",
   "metadata": {},
   "outputs": [],
   "source": []
  }
 ],
 "metadata": {
  "kernelspec": {
   "display_name": "Python 3 (ipykernel)",
   "language": "python",
   "name": "python3"
  },
  "language_info": {
   "codemirror_mode": {
    "name": "ipython",
    "version": 3
   },
   "file_extension": ".py",
   "mimetype": "text/x-python",
   "name": "python",
   "nbconvert_exporter": "python",
   "pygments_lexer": "ipython3",
   "version": "3.10.9"
  }
 },
 "nbformat": 4,
 "nbformat_minor": 5
}
